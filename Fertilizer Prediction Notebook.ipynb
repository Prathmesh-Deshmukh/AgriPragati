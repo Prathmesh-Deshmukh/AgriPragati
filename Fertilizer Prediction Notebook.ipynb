{
  "metadata": {
    "kernelspec": {
      "language": "python",
      "display_name": "Python 3",
      "name": "python3"
    },
    "language_info": {
      "name": "python",
      "version": "3.7.10",
      "mimetype": "text/x-python",
      "codemirror_mode": {
        "name": "ipython",
        "version": 3
      },
      "pygments_lexer": "ipython3",
      "nbconvert_exporter": "python",
      "file_extension": ".py"
    },
    "kaggle": {
      "accelerator": "none",
      "dataSources": [
        {
          "sourceId": 802720,
          "sourceType": "datasetVersion",
          "datasetId": 420288
        }
      ],
      "dockerImageVersionId": 30096,
      "isInternetEnabled": false,
      "language": "python",
      "sourceType": "notebook",
      "isGpuEnabled": false
    },
    "colab": {
      "provenance": []
    }
  },
  "nbformat_minor": 0,
  "nbformat": 4,
  "cells": [
    {
      "cell_type": "code",
      "source": [
        "# This Python 3 environment comes with many helpful analytics libraries installed\n",
        "# It is defined by the kaggle/python Docker image: https://github.com/kaggle/docker-python\n",
        "# For example, here's several helpful packages to load\n",
        "\n",
        "import numpy as np # linear algebra\n",
        "import pandas as pd # data processing, CSV file I/O (e.g. pd.read_csv)\n",
        "import warnings\n",
        "warnings.filterwarnings(\"ignore\")\n",
        "\n",
        "\n",
        "# Input data files are available in the read-only \"../input/\" directory\n",
        "# For example, running this (by clicking run or pressing Shift+Enter) will list all files under the input directory\n",
        "\n",
        "import os\n",
        "for dirname, _, filenames in os.walk('/kaggle/input'):\n",
        "    for filename in filenames:\n",
        "        print(os.path.join(dirname, filename))\n",
        "\n",
        "# You can write up to 20GB to the current directory (/kaggle/working/) that gets preserved as output when you create a version using \"Save & Run All\"\n",
        "# You can also write temporary files to /kaggle/temp/, but they won't be saved outside of the current session"
      ],
      "metadata": {
        "_uuid": "8f2839f25d086af736a60e9eeb907d3b93b6e0e5",
        "_cell_guid": "b1076dfc-b9ad-4769-8c92-a6c4dae69d19",
        "execution": {
          "iopub.status.busy": "2023-11-22T09:59:11.539233Z",
          "iopub.execute_input": "2023-11-22T09:59:11.539620Z",
          "iopub.status.idle": "2023-11-22T09:59:11.549841Z",
          "shell.execute_reply.started": "2023-11-22T09:59:11.539588Z",
          "shell.execute_reply": "2023-11-22T09:59:11.548533Z"
        },
        "trusted": true,
        "id": "_FXaiD5pSIa-",
        "outputId": "1f76cc84-231a-483a-b7d5-a466e5af8a2e"
      },
      "execution_count": null,
      "outputs": [
        {
          "name": "stdout",
          "text": "/kaggle/input/fertilizer-prediction/Fertilizer Prediction.csv\n",
          "output_type": "stream"
        }
      ]
    },
    {
      "cell_type": "markdown",
      "source": [
        "# Reading dataset"
      ],
      "metadata": {
        "id": "Uee9PwM_SIbD"
      }
    },
    {
      "cell_type": "code",
      "source": [
        "df = pd.read_csv(\"/kaggle/input/fertilizer-prediction/Fertilizer Prediction.csv\")"
      ],
      "metadata": {
        "execution": {
          "iopub.status.busy": "2023-11-22T09:59:11.551769Z",
          "iopub.execute_input": "2023-11-22T09:59:11.552177Z",
          "iopub.status.idle": "2023-11-22T09:59:11.568423Z",
          "shell.execute_reply.started": "2023-11-22T09:59:11.552142Z",
          "shell.execute_reply": "2023-11-22T09:59:11.567202Z"
        },
        "trusted": true,
        "id": "gaBkn21NSIbG"
      },
      "execution_count": null,
      "outputs": []
    },
    {
      "cell_type": "markdown",
      "source": [
        "# Visualizing Data"
      ],
      "metadata": {
        "id": "B6nrwwMuSIbI"
      }
    },
    {
      "cell_type": "code",
      "source": [
        "#Defining function for Continuous and catogorical variable\n",
        "def plot_conti(x):\n",
        "    fig, axes = plt.subplots(nrows=1,ncols=3,figsize=(15,5),tight_layout=True)\n",
        "    axes[0].set_title('Histogram')\n",
        "    sns.histplot(x,ax=axes[0])\n",
        "    axes[1].set_title('Checking Outliers')\n",
        "    sns.boxplot(x,ax=axes[1])\n",
        "    axes[2].set_title('Relation with output variable')\n",
        "    sns.boxplot(y = x,x = df['Fertilizer Name'])\n",
        "\n",
        "def plot_cato(x):\n",
        "    fig, axes = plt.subplots(nrows=1,ncols=2,figsize=(15,5),tight_layout=True)\n",
        "    axes[0].set_title('Count Plot')\n",
        "    sns.countplot(x,ax=axes[0])\n",
        "    axes[1].set_title('Relation with output variable')\n",
        "    sns.countplot(x = x,hue = df['Fertilizer Name'], ax=axes[1])"
      ],
      "metadata": {
        "execution": {
          "iopub.status.busy": "2023-11-22T09:59:11.636087Z",
          "iopub.execute_input": "2023-11-22T09:59:11.636519Z",
          "iopub.status.idle": "2023-11-22T09:59:11.646834Z",
          "shell.execute_reply.started": "2023-11-22T09:59:11.636483Z",
          "shell.execute_reply": "2023-11-22T09:59:11.645754Z"
        },
        "trusted": true,
        "id": "mGtlBEe_SIbJ"
      },
      "execution_count": null,
      "outputs": []
    },
    {
      "cell_type": "markdown",
      "source": [
        "# Preprocessing using One-Hot Encoder"
      ],
      "metadata": {
        "id": "CcdBceMESIbM"
      }
    },
    {
      "cell_type": "code",
      "source": [
        "y = df['Fertilizer Name'].copy()\n",
        "X = df.drop(['Fertilizer Name','Soil Type'], axis=1).copy()\n",
        "\n"
      ],
      "metadata": {
        "execution": {
          "iopub.status.busy": "2023-11-22T09:59:11.648561Z",
          "iopub.execute_input": "2023-11-22T09:59:11.649068Z",
          "iopub.status.idle": "2023-11-22T09:59:11.662121Z",
          "shell.execute_reply.started": "2023-11-22T09:59:11.649030Z",
          "shell.execute_reply": "2023-11-22T09:59:11.660784Z"
        },
        "trusted": true,
        "id": "b82SHWcoSIbM"
      },
      "execution_count": null,
      "outputs": []
    },
    {
      "cell_type": "code",
      "source": [
        "X"
      ],
      "metadata": {
        "execution": {
          "iopub.status.busy": "2023-11-22T09:59:11.664297Z",
          "iopub.execute_input": "2023-11-22T09:59:11.664775Z",
          "iopub.status.idle": "2023-11-22T09:59:11.692284Z",
          "shell.execute_reply.started": "2023-11-22T09:59:11.664735Z",
          "shell.execute_reply": "2023-11-22T09:59:11.691082Z"
        },
        "trusted": true,
        "id": "ulo3cC4TSIbM",
        "outputId": "3060f01b-3965-442a-876a-a247a99e230f"
      },
      "execution_count": null,
      "outputs": [
        {
          "execution_count": 110,
          "output_type": "execute_result",
          "data": {
            "text/plain": "    Temparature  Humidity   Moisture  Crop Type  Nitrogen  Potassium  \\\n0            26         52        38      Maize        37          0   \n1            29         52        45  Sugarcane        12          0   \n2            34         65        62     Cotton         7          9   \n3            32         62        34    Tobacco        22          0   \n4            28         54        46      Paddy        35          0   \n..          ...        ...       ...        ...       ...        ...   \n94           25         50        32     Pulses        24          0   \n95           30         60        27    Tobacco         4         17   \n96           38         72        51      Wheat        39          0   \n97           36         60        43    Millets        15          0   \n98           29         58        57  Sugarcane        12          0   \n\n    Phosphorous  \n0             0  \n1            36  \n2            30  \n3            20  \n4             0  \n..          ...  \n94           19  \n95           17  \n96            0  \n97           41  \n98           10  \n\n[99 rows x 7 columns]",
            "text/html": "<div>\n<style scoped>\n    .dataframe tbody tr th:only-of-type {\n        vertical-align: middle;\n    }\n\n    .dataframe tbody tr th {\n        vertical-align: top;\n    }\n\n    .dataframe thead th {\n        text-align: right;\n    }\n</style>\n<table border=\"1\" class=\"dataframe\">\n  <thead>\n    <tr style=\"text-align: right;\">\n      <th></th>\n      <th>Temparature</th>\n      <th>Humidity</th>\n      <th>Moisture</th>\n      <th>Crop Type</th>\n      <th>Nitrogen</th>\n      <th>Potassium</th>\n      <th>Phosphorous</th>\n    </tr>\n  </thead>\n  <tbody>\n    <tr>\n      <th>0</th>\n      <td>26</td>\n      <td>52</td>\n      <td>38</td>\n      <td>Maize</td>\n      <td>37</td>\n      <td>0</td>\n      <td>0</td>\n    </tr>\n    <tr>\n      <th>1</th>\n      <td>29</td>\n      <td>52</td>\n      <td>45</td>\n      <td>Sugarcane</td>\n      <td>12</td>\n      <td>0</td>\n      <td>36</td>\n    </tr>\n    <tr>\n      <th>2</th>\n      <td>34</td>\n      <td>65</td>\n      <td>62</td>\n      <td>Cotton</td>\n      <td>7</td>\n      <td>9</td>\n      <td>30</td>\n    </tr>\n    <tr>\n      <th>3</th>\n      <td>32</td>\n      <td>62</td>\n      <td>34</td>\n      <td>Tobacco</td>\n      <td>22</td>\n      <td>0</td>\n      <td>20</td>\n    </tr>\n    <tr>\n      <th>4</th>\n      <td>28</td>\n      <td>54</td>\n      <td>46</td>\n      <td>Paddy</td>\n      <td>35</td>\n      <td>0</td>\n      <td>0</td>\n    </tr>\n    <tr>\n      <th>...</th>\n      <td>...</td>\n      <td>...</td>\n      <td>...</td>\n      <td>...</td>\n      <td>...</td>\n      <td>...</td>\n      <td>...</td>\n    </tr>\n    <tr>\n      <th>94</th>\n      <td>25</td>\n      <td>50</td>\n      <td>32</td>\n      <td>Pulses</td>\n      <td>24</td>\n      <td>0</td>\n      <td>19</td>\n    </tr>\n    <tr>\n      <th>95</th>\n      <td>30</td>\n      <td>60</td>\n      <td>27</td>\n      <td>Tobacco</td>\n      <td>4</td>\n      <td>17</td>\n      <td>17</td>\n    </tr>\n    <tr>\n      <th>96</th>\n      <td>38</td>\n      <td>72</td>\n      <td>51</td>\n      <td>Wheat</td>\n      <td>39</td>\n      <td>0</td>\n      <td>0</td>\n    </tr>\n    <tr>\n      <th>97</th>\n      <td>36</td>\n      <td>60</td>\n      <td>43</td>\n      <td>Millets</td>\n      <td>15</td>\n      <td>0</td>\n      <td>41</td>\n    </tr>\n    <tr>\n      <th>98</th>\n      <td>29</td>\n      <td>58</td>\n      <td>57</td>\n      <td>Sugarcane</td>\n      <td>12</td>\n      <td>0</td>\n      <td>10</td>\n    </tr>\n  </tbody>\n</table>\n<p>99 rows × 7 columns</p>\n</div>"
          },
          "metadata": {}
        }
      ]
    },
    {
      "cell_type": "code",
      "source": [
        "from sklearn.compose import ColumnTransformer\n",
        "from sklearn.preprocessing import OneHotEncoder\n",
        "ct = ColumnTransformer(transformers=[('encoder', OneHotEncoder(), [3])], remainder='passthrough')\n",
        "X = np.array(ct.fit_transform(X))"
      ],
      "metadata": {
        "execution": {
          "iopub.status.busy": "2023-11-22T09:59:11.693989Z",
          "iopub.execute_input": "2023-11-22T09:59:11.694595Z",
          "iopub.status.idle": "2023-11-22T09:59:11.709598Z",
          "shell.execute_reply.started": "2023-11-22T09:59:11.694551Z",
          "shell.execute_reply": "2023-11-22T09:59:11.708105Z"
        },
        "trusted": true,
        "id": "3t_0Oh8uSIbN"
      },
      "execution_count": null,
      "outputs": []
    },
    {
      "cell_type": "code",
      "source": [
        "X"
      ],
      "metadata": {
        "execution": {
          "iopub.status.busy": "2023-11-22T09:59:11.711689Z",
          "iopub.execute_input": "2023-11-22T09:59:11.712211Z",
          "iopub.status.idle": "2023-11-22T09:59:11.726349Z",
          "shell.execute_reply.started": "2023-11-22T09:59:11.712157Z",
          "shell.execute_reply": "2023-11-22T09:59:11.724477Z"
        },
        "trusted": true,
        "id": "x4O8vp6YSIbN",
        "outputId": "c51f097d-ecc2-4628-90d2-dd1a5e538865"
      },
      "execution_count": null,
      "outputs": [
        {
          "execution_count": 112,
          "output_type": "execute_result",
          "data": {
            "text/plain": "array([[ 0.,  0.,  0., ..., 37.,  0.,  0.],\n       [ 0.,  0.,  0., ..., 12.,  0., 36.],\n       [ 0.,  1.,  0., ...,  7.,  9., 30.],\n       ...,\n       [ 0.,  0.,  0., ..., 39.,  0.,  0.],\n       [ 0.,  0.,  0., ..., 15.,  0., 41.],\n       [ 0.,  0.,  0., ..., 12.,  0., 10.]])"
          },
          "metadata": {}
        }
      ]
    },
    {
      "cell_type": "code",
      "source": [
        "print(np.size(X))"
      ],
      "metadata": {
        "execution": {
          "iopub.status.busy": "2023-11-22T09:59:11.729538Z",
          "iopub.execute_input": "2023-11-22T09:59:11.730062Z",
          "iopub.status.idle": "2023-11-22T09:59:11.739469Z",
          "shell.execute_reply.started": "2023-11-22T09:59:11.730007Z",
          "shell.execute_reply": "2023-11-22T09:59:11.738122Z"
        },
        "trusted": true,
        "id": "CzzOVP6OSIbN",
        "outputId": "70542e6e-179f-4a71-bcf0-cd308748e6d6"
      },
      "execution_count": null,
      "outputs": [
        {
          "name": "stdout",
          "text": "1683\n",
          "output_type": "stream"
        }
      ]
    },
    {
      "cell_type": "markdown",
      "source": [
        "# Train-test split"
      ],
      "metadata": {
        "id": "x1zG97izSIbO"
      }
    },
    {
      "cell_type": "code",
      "source": [
        "\n",
        "from sklearn.model_selection import train_test_split\n",
        "X_train, X_test, y_train, y_test = train_test_split(X, y, train_size=0.7, shuffle=True, random_state=42)"
      ],
      "metadata": {
        "execution": {
          "iopub.status.busy": "2023-11-22T09:59:11.741563Z",
          "iopub.execute_input": "2023-11-22T09:59:11.742105Z",
          "iopub.status.idle": "2023-11-22T09:59:11.750552Z",
          "shell.execute_reply.started": "2023-11-22T09:59:11.742065Z",
          "shell.execute_reply": "2023-11-22T09:59:11.749759Z"
        },
        "trusted": true,
        "id": "yxpOGq1TSIbO"
      },
      "execution_count": null,
      "outputs": []
    },
    {
      "cell_type": "markdown",
      "source": [
        "# Feature Scaling"
      ],
      "metadata": {
        "id": "TYJUWUO3SIbO"
      }
    },
    {
      "cell_type": "code",
      "source": [
        "from sklearn.preprocessing import StandardScaler\n",
        "sc = StandardScaler()\n",
        "X_train = sc.fit_transform(X_train)\n",
        "X_test = sc.transform(X_test)"
      ],
      "metadata": {
        "execution": {
          "iopub.status.busy": "2023-11-22T09:59:11.751968Z",
          "iopub.execute_input": "2023-11-22T09:59:11.752489Z",
          "iopub.status.idle": "2023-11-22T09:59:11.764623Z",
          "shell.execute_reply.started": "2023-11-22T09:59:11.752448Z",
          "shell.execute_reply": "2023-11-22T09:59:11.763262Z"
        },
        "trusted": true,
        "id": "jkjSuO0WSIbP"
      },
      "execution_count": null,
      "outputs": []
    },
    {
      "cell_type": "code",
      "source": [
        "X_test"
      ],
      "metadata": {
        "execution": {
          "iopub.status.busy": "2023-11-22T09:59:11.766183Z",
          "iopub.execute_input": "2023-11-22T09:59:11.766929Z",
          "iopub.status.idle": "2023-11-22T09:59:11.787793Z",
          "shell.execute_reply.started": "2023-11-22T09:59:11.766886Z",
          "shell.execute_reply": "2023-11-22T09:59:11.786524Z"
        },
        "trusted": true,
        "id": "EDOqwGJCSIbP",
        "outputId": "b659829e-f824-4a94-d49f-6a1c9d7140cb"
      },
      "execution_count": null,
      "outputs": [
        {
          "execution_count": 116,
          "output_type": "execute_result",
          "data": {
            "text/plain": "array([[-0.24806947,  2.97609524, -0.33601075, -0.17277369, -0.36214298,\n        -0.24806947, -0.36214298, -0.3086067 , -0.43549417, -0.24806947,\n        -0.36214298,  1.06134936,  0.9915576 ,  1.86217313,  0.46072126,\n        -0.57643157,  0.16743993],\n       [-0.24806947, -0.33601075, -0.33601075, -0.17277369, -0.36214298,\n        -0.24806947, -0.36214298,  3.24037035, -0.43549417, -0.24806947,\n        -0.36214298, -0.93332667, -0.86669479, -1.18643689, -0.49732651,\n        -0.57643157, -0.36814607],\n       [-0.24806947, -0.33601075, -0.33601075, -0.17277369, -0.36214298,\n        -0.24806947, -0.36214298, -0.3086067 , -0.43549417,  4.03112887,\n        -0.36214298, -0.07846552,  0.14689742, -1.4554319 , -1.28118377,\n         2.51103066, -0.06209693],\n       [-0.24806947,  2.97609524, -0.33601075, -0.17277369, -0.36214298,\n        -0.24806947, -0.36214298, -0.3086067 , -0.43549417, -0.24806947,\n        -0.36214298, -0.64837295, -0.86669479,  1.95183813,  1.76715002,\n        -0.57643157, -1.3628058 ],\n       [-0.24806947, -0.33601075, -0.33601075, -0.17277369,  2.76134025,\n        -0.24806947, -0.36214298, -0.3086067 , -0.43549417, -0.24806947,\n        -0.36214298,  1.6312568 ,  0.14689742, -0.02079188, -0.323136  ,\n        -0.57643157,  1.77419795],\n       [ 4.03112887, -0.33601075, -0.33601075, -0.17277369, -0.36214298,\n        -0.24806947, -0.36214298, -0.3086067 , -0.43549417, -0.24806947,\n        -0.36214298,  0.2064882 ,  0.48476149,  0.06887312,  0.1994355 ,\n        -0.57643157,  0.77953822],\n       [-0.24806947, -0.33601075, -0.33601075, -0.17277369, -0.36214298,\n         4.03112887, -0.36214298, -0.3086067 , -0.43549417, -0.24806947,\n        -0.36214298, -0.93332667, -1.03562683, -0.73811189,  1.59295952,\n        -0.57643157, -1.3628058 ],\n       [-0.24806947, -0.33601075, -0.33601075, -0.17277369, -0.36214298,\n        -0.24806947, -0.36214298, -0.3086067 , -0.43549417,  4.03112887,\n        -0.36214298,  0.49144192,  0.48476149, -0.82777689,  0.28653075,\n        -0.57643157,  0.47348908],\n       [-0.24806947, -0.33601075, -0.33601075, -0.17277369, -0.36214298,\n        -0.24806947, -0.36214298,  3.24037035, -0.43549417, -0.24806947,\n        -0.36214298, -0.93332667, -0.86669479, -1.36576689, -0.49732651,\n        -0.57643157,  1.69768566],\n       [-0.24806947, -0.33601075, -0.33601075,  5.78791845, -0.36214298,\n        -0.24806947, -0.36214298, -0.3086067 , -0.43549417, -0.24806947,\n        -0.36214298, -1.21828039, -1.20455886, -0.46911689,  1.59295952,\n        -0.57643157, -1.3628058 ],\n       [-0.24806947, -0.33601075, -0.33601075, -0.17277369, -0.36214298,\n        -0.24806947, -0.36214298, -0.3086067 ,  2.29624199, -0.24806947,\n        -0.36214298, -0.07846552,  0.14689742, -1.4554319 , -0.58442176,\n        -0.57643157,  1.69768566],\n       [-0.24806947, -0.33601075, -0.33601075,  5.78791845, -0.36214298,\n        -0.24806947, -0.36214298, -0.3086067 , -0.43549417, -0.24806947,\n        -0.36214298, -0.07846552,  0.14689742,  0.33786812,  0.28653075,\n        -0.57643157,  0.24395222],\n       [-0.24806947, -0.33601075, -0.33601075, -0.17277369, -0.36214298,\n        -0.24806947,  2.76134025, -0.3086067 , -0.43549417, -0.24806947,\n        -0.36214298, -0.36341924, -0.19096665, -0.02079188,  0.46072126,\n        -0.57643157,  0.01441536],\n       [-0.24806947,  2.97609524, -0.33601075, -0.17277369, -0.36214298,\n        -0.24806947, -0.36214298, -0.3086067 , -0.43549417, -0.24806947,\n        -0.36214298, -0.07846552,  0.14689742,  1.77250813, -0.84570751,\n         1.05810726,  0.85605051],\n       [ 4.03112887, -0.33601075, -0.33601075, -0.17277369, -0.36214298,\n        -0.24806947, -0.36214298, -0.3086067 , -0.43549417, -0.24806947,\n        -0.36214298,  1.34630308,  1.32942167, -0.11045688, -0.75861226,\n        -0.57643157,  1.31512423],\n       [-0.24806947, -0.33601075, -0.33601075, -0.17277369, -0.36214298,\n        -0.24806947,  2.76134025, -0.3086067 , -0.43549417, -0.24806947,\n        -0.36214298, -0.64837295, -0.86669479,  0.24820312,  1.41876902,\n        -0.57643157, -1.3628058 ],\n       [-0.24806947, -0.33601075, -0.33601075, -0.17277369, -0.36214298,\n        -0.24806947, -0.36214298, -0.3086067 , -0.43549417,  4.03112887,\n        -0.36214298,  1.34630308,  1.49835371, -0.91744189, -0.67151701,\n        -0.57643157,  1.4681488 ],\n       [-0.24806947,  2.97609524, -0.33601075, -0.17277369, -0.36214298,\n        -0.24806947, -0.36214298, -0.3086067 , -0.43549417, -0.24806947,\n        -0.36214298, -1.50323411, -1.54242294,  1.95183813,  1.50586427,\n        -0.57643157, -1.3628058 ],\n       [-0.24806947, -0.33601075, -0.33601075, -0.17277369, -0.36214298,\n        -0.24806947, -0.36214298, -0.3086067 , -0.43549417, -0.24806947,\n         2.76134025,  1.6312568 ,  1.49835371,  0.60686312, -0.58442176,\n         2.69264608,  0.09092764],\n       [-0.24806947, -0.33601075, -0.33601075, -0.17277369, -0.36214298,\n         4.03112887, -0.36214298, -0.3086067 , -0.43549417, -0.24806947,\n        -0.36214298, -0.93332667, -1.03562683, -0.82777689,  2.02843578,\n        -0.57643157, -1.3628058 ],\n       [-0.24806947, -0.33601075, -0.33601075,  5.78791845, -0.36214298,\n        -0.24806947, -0.36214298, -0.3086067 , -0.43549417, -0.24806947,\n        -0.36214298,  0.77639564,  0.82262557,  0.69652812, -1.19408852,\n         1.05810726,  0.85605051],\n       [-0.24806947, -0.33601075, -0.33601075, -0.17277369, -0.36214298,\n        -0.24806947, -0.36214298,  3.24037035, -0.43549417, -0.24806947,\n        -0.36214298, -1.21828039, -1.20455886, -0.37945189,  0.1994355 ,\n        -0.57643157,  0.39697679],\n       [-0.24806947, -0.33601075, -0.33601075, -0.17277369, -0.36214298,\n        -0.24806947, -0.36214298,  3.24037035, -0.43549417, -0.24806947,\n        -0.36214298, -1.50323411, -1.54242294, -0.28978689, -1.10699326,\n         2.87426151, -0.13860921],\n       [-0.24806947, -0.33601075, -0.33601075, -0.17277369, -0.36214298,\n        -0.24806947, -0.36214298, -0.3086067 ,  2.29624199, -0.24806947,\n        -0.36214298,  0.2064882 ,  0.48476149,  0.51719812, -0.75861226,\n         1.78456896, -0.29163379],\n       [-0.24806947, -0.33601075, -0.33601075, -0.17277369,  2.76134025,\n        -0.24806947, -0.36214298, -0.3086067 , -0.43549417, -0.24806947,\n        -0.36214298, -0.36341924, -0.19096665, -0.82777689, -0.323136  ,\n        -0.57643157,  1.4681488 ],\n       [ 4.03112887, -0.33601075, -0.33601075, -0.17277369, -0.36214298,\n        -0.24806947, -0.36214298, -0.3086067 , -0.43549417, -0.24806947,\n        -0.36214298,  1.6312568 ,  1.49835371, -0.46911689, -1.01989801,\n         1.05810726,  0.9325628 ],\n       [-0.24806947, -0.33601075, -0.33601075, -0.17277369, -0.36214298,\n         4.03112887, -0.36214298, -0.3086067 , -0.43549417, -0.24806947,\n        -0.36214298, -0.36341924, -0.19096665, -0.91744189, -0.84570751,\n         0.69487641,  0.9325628 ],\n       [-0.24806947, -0.33601075, -0.33601075, -0.17277369,  2.76134025,\n        -0.24806947, -0.36214298, -0.3086067 , -0.43549417, -0.24806947,\n        -0.36214298, -0.07846552,  0.14689742, -0.28978689,  1.94134053,\n        -0.57643157, -1.3628058 ],\n       [-0.24806947, -0.33601075, -0.33601075,  5.78791845, -0.36214298,\n        -0.24806947, -0.36214298, -0.3086067 , -0.43549417, -0.24806947,\n        -0.36214298,  0.2064882 ,  0.48476149,  0.42753312, -0.41023126,\n         2.14779981, -0.44465836],\n       [-0.24806947,  2.97609524, -0.33601075, -0.17277369, -0.36214298,\n        -0.24806947, -0.36214298, -0.3086067 , -0.43549417, -0.24806947,\n        -0.36214298,  1.6312568 ,  1.49835371,  1.68284313, -0.323136  ,\n        -0.57643157,  1.69768566]])"
          },
          "metadata": {}
        }
      ]
    },
    {
      "cell_type": "code",
      "source": [
        "X_train[0]"
      ],
      "metadata": {
        "execution": {
          "iopub.status.busy": "2023-11-22T09:59:11.789669Z",
          "iopub.execute_input": "2023-11-22T09:59:11.790430Z",
          "iopub.status.idle": "2023-11-22T09:59:11.799482Z",
          "shell.execute_reply.started": "2023-11-22T09:59:11.790372Z",
          "shell.execute_reply": "2023-11-22T09:59:11.798429Z"
        },
        "trusted": true,
        "id": "QAlzOSQnSIbQ",
        "outputId": "7b7bc0ad-bf26-4fd8-8e8f-40730c0fdd63"
      },
      "execution_count": null,
      "outputs": [
        {
          "execution_count": 117,
          "output_type": "execute_result",
          "data": {
            "text/plain": "array([-0.24806947, -0.33601075, -0.33601075, -0.17277369, -0.36214298,\n       -0.24806947, -0.36214298,  3.24037035, -0.43549417, -0.24806947,\n       -0.36214298, -1.50323411, -1.54242294, -1.00710689,  0.46072126,\n       -0.57643157,  0.09092764])"
          },
          "metadata": {}
        }
      ]
    },
    {
      "cell_type": "markdown",
      "source": [
        "# Random Forest Classifier"
      ],
      "metadata": {
        "id": "qjmkDKbVSIbQ"
      }
    },
    {
      "cell_type": "code",
      "source": [
        "from sklearn.ensemble import RandomForestClassifier\n",
        "classifier = RandomForestClassifier(n_estimators= 100, criterion = 'gini' , random_state= 42)\n",
        "classifier.fit(X_train, y_train)"
      ],
      "metadata": {
        "execution": {
          "iopub.status.busy": "2023-11-22T09:59:11.800963Z",
          "iopub.execute_input": "2023-11-22T09:59:11.801463Z",
          "iopub.status.idle": "2023-11-22T09:59:12.022313Z",
          "shell.execute_reply.started": "2023-11-22T09:59:11.801425Z",
          "shell.execute_reply": "2023-11-22T09:59:12.021507Z"
        },
        "trusted": true,
        "id": "k_UAsMYKSIbQ",
        "outputId": "b8741679-f002-4673-e22b-0bf98668adb3"
      },
      "execution_count": null,
      "outputs": [
        {
          "execution_count": 118,
          "output_type": "execute_result",
          "data": {
            "text/plain": "RandomForestClassifier(random_state=42)"
          },
          "metadata": {}
        }
      ]
    },
    {
      "cell_type": "code",
      "source": [
        "y_pred = classifier.predict(X_test)"
      ],
      "metadata": {
        "execution": {
          "iopub.status.busy": "2023-11-22T09:59:12.023459Z",
          "iopub.execute_input": "2023-11-22T09:59:12.023933Z",
          "iopub.status.idle": "2023-11-22T09:59:12.042845Z",
          "shell.execute_reply.started": "2023-11-22T09:59:12.023899Z",
          "shell.execute_reply": "2023-11-22T09:59:12.041954Z"
        },
        "trusted": true,
        "id": "TfroCAr5SIbQ"
      },
      "execution_count": null,
      "outputs": []
    },
    {
      "cell_type": "code",
      "source": [
        "X_test"
      ],
      "metadata": {
        "execution": {
          "iopub.status.busy": "2023-11-22T10:00:08.100371Z",
          "iopub.execute_input": "2023-11-22T10:00:08.100906Z",
          "iopub.status.idle": "2023-11-22T10:00:08.117373Z",
          "shell.execute_reply.started": "2023-11-22T10:00:08.100855Z",
          "shell.execute_reply": "2023-11-22T10:00:08.115957Z"
        },
        "trusted": true,
        "id": "YONii9PfSIbY",
        "outputId": "491c4857-80b2-4ea3-9648-44c438975d4e"
      },
      "execution_count": null,
      "outputs": [
        {
          "execution_count": 135,
          "output_type": "execute_result",
          "data": {
            "text/plain": "array([[-0.24806947,  2.97609524, -0.33601075, -0.17277369, -0.36214298,\n        -0.24806947, -0.36214298, -0.3086067 , -0.43549417, -0.24806947,\n        -0.36214298,  1.06134936,  0.9915576 ,  1.86217313,  0.46072126,\n        -0.57643157,  0.16743993],\n       [-0.24806947, -0.33601075, -0.33601075, -0.17277369, -0.36214298,\n        -0.24806947, -0.36214298,  3.24037035, -0.43549417, -0.24806947,\n        -0.36214298, -0.93332667, -0.86669479, -1.18643689, -0.49732651,\n        -0.57643157, -0.36814607],\n       [-0.24806947, -0.33601075, -0.33601075, -0.17277369, -0.36214298,\n        -0.24806947, -0.36214298, -0.3086067 , -0.43549417,  4.03112887,\n        -0.36214298, -0.07846552,  0.14689742, -1.4554319 , -1.28118377,\n         2.51103066, -0.06209693],\n       [-0.24806947,  2.97609524, -0.33601075, -0.17277369, -0.36214298,\n        -0.24806947, -0.36214298, -0.3086067 , -0.43549417, -0.24806947,\n        -0.36214298, -0.64837295, -0.86669479,  1.95183813,  1.76715002,\n        -0.57643157, -1.3628058 ],\n       [-0.24806947, -0.33601075, -0.33601075, -0.17277369,  2.76134025,\n        -0.24806947, -0.36214298, -0.3086067 , -0.43549417, -0.24806947,\n        -0.36214298,  1.6312568 ,  0.14689742, -0.02079188, -0.323136  ,\n        -0.57643157,  1.77419795],\n       [ 4.03112887, -0.33601075, -0.33601075, -0.17277369, -0.36214298,\n        -0.24806947, -0.36214298, -0.3086067 , -0.43549417, -0.24806947,\n        -0.36214298,  0.2064882 ,  0.48476149,  0.06887312,  0.1994355 ,\n        -0.57643157,  0.77953822],\n       [-0.24806947, -0.33601075, -0.33601075, -0.17277369, -0.36214298,\n         4.03112887, -0.36214298, -0.3086067 , -0.43549417, -0.24806947,\n        -0.36214298, -0.93332667, -1.03562683, -0.73811189,  1.59295952,\n        -0.57643157, -1.3628058 ],\n       [-0.24806947, -0.33601075, -0.33601075, -0.17277369, -0.36214298,\n        -0.24806947, -0.36214298, -0.3086067 , -0.43549417,  4.03112887,\n        -0.36214298,  0.49144192,  0.48476149, -0.82777689,  0.28653075,\n        -0.57643157,  0.47348908],\n       [-0.24806947, -0.33601075, -0.33601075, -0.17277369, -0.36214298,\n        -0.24806947, -0.36214298,  3.24037035, -0.43549417, -0.24806947,\n        -0.36214298, -0.93332667, -0.86669479, -1.36576689, -0.49732651,\n        -0.57643157,  1.69768566],\n       [-0.24806947, -0.33601075, -0.33601075,  5.78791845, -0.36214298,\n        -0.24806947, -0.36214298, -0.3086067 , -0.43549417, -0.24806947,\n        -0.36214298, -1.21828039, -1.20455886, -0.46911689,  1.59295952,\n        -0.57643157, -1.3628058 ],\n       [-0.24806947, -0.33601075, -0.33601075, -0.17277369, -0.36214298,\n        -0.24806947, -0.36214298, -0.3086067 ,  2.29624199, -0.24806947,\n        -0.36214298, -0.07846552,  0.14689742, -1.4554319 , -0.58442176,\n        -0.57643157,  1.69768566],\n       [-0.24806947, -0.33601075, -0.33601075,  5.78791845, -0.36214298,\n        -0.24806947, -0.36214298, -0.3086067 , -0.43549417, -0.24806947,\n        -0.36214298, -0.07846552,  0.14689742,  0.33786812,  0.28653075,\n        -0.57643157,  0.24395222],\n       [-0.24806947, -0.33601075, -0.33601075, -0.17277369, -0.36214298,\n        -0.24806947,  2.76134025, -0.3086067 , -0.43549417, -0.24806947,\n        -0.36214298, -0.36341924, -0.19096665, -0.02079188,  0.46072126,\n        -0.57643157,  0.01441536],\n       [-0.24806947,  2.97609524, -0.33601075, -0.17277369, -0.36214298,\n        -0.24806947, -0.36214298, -0.3086067 , -0.43549417, -0.24806947,\n        -0.36214298, -0.07846552,  0.14689742,  1.77250813, -0.84570751,\n         1.05810726,  0.85605051],\n       [ 4.03112887, -0.33601075, -0.33601075, -0.17277369, -0.36214298,\n        -0.24806947, -0.36214298, -0.3086067 , -0.43549417, -0.24806947,\n        -0.36214298,  1.34630308,  1.32942167, -0.11045688, -0.75861226,\n        -0.57643157,  1.31512423],\n       [-0.24806947, -0.33601075, -0.33601075, -0.17277369, -0.36214298,\n        -0.24806947,  2.76134025, -0.3086067 , -0.43549417, -0.24806947,\n        -0.36214298, -0.64837295, -0.86669479,  0.24820312,  1.41876902,\n        -0.57643157, -1.3628058 ],\n       [-0.24806947, -0.33601075, -0.33601075, -0.17277369, -0.36214298,\n        -0.24806947, -0.36214298, -0.3086067 , -0.43549417,  4.03112887,\n        -0.36214298,  1.34630308,  1.49835371, -0.91744189, -0.67151701,\n        -0.57643157,  1.4681488 ],\n       [-0.24806947,  2.97609524, -0.33601075, -0.17277369, -0.36214298,\n        -0.24806947, -0.36214298, -0.3086067 , -0.43549417, -0.24806947,\n        -0.36214298, -1.50323411, -1.54242294,  1.95183813,  1.50586427,\n        -0.57643157, -1.3628058 ],\n       [-0.24806947, -0.33601075, -0.33601075, -0.17277369, -0.36214298,\n        -0.24806947, -0.36214298, -0.3086067 , -0.43549417, -0.24806947,\n         2.76134025,  1.6312568 ,  1.49835371,  0.60686312, -0.58442176,\n         2.69264608,  0.09092764],\n       [-0.24806947, -0.33601075, -0.33601075, -0.17277369, -0.36214298,\n         4.03112887, -0.36214298, -0.3086067 , -0.43549417, -0.24806947,\n        -0.36214298, -0.93332667, -1.03562683, -0.82777689,  2.02843578,\n        -0.57643157, -1.3628058 ],\n       [-0.24806947, -0.33601075, -0.33601075,  5.78791845, -0.36214298,\n        -0.24806947, -0.36214298, -0.3086067 , -0.43549417, -0.24806947,\n        -0.36214298,  0.77639564,  0.82262557,  0.69652812, -1.19408852,\n         1.05810726,  0.85605051],\n       [-0.24806947, -0.33601075, -0.33601075, -0.17277369, -0.36214298,\n        -0.24806947, -0.36214298,  3.24037035, -0.43549417, -0.24806947,\n        -0.36214298, -1.21828039, -1.20455886, -0.37945189,  0.1994355 ,\n        -0.57643157,  0.39697679],\n       [-0.24806947, -0.33601075, -0.33601075, -0.17277369, -0.36214298,\n        -0.24806947, -0.36214298,  3.24037035, -0.43549417, -0.24806947,\n        -0.36214298, -1.50323411, -1.54242294, -0.28978689, -1.10699326,\n         2.87426151, -0.13860921],\n       [-0.24806947, -0.33601075, -0.33601075, -0.17277369, -0.36214298,\n        -0.24806947, -0.36214298, -0.3086067 ,  2.29624199, -0.24806947,\n        -0.36214298,  0.2064882 ,  0.48476149,  0.51719812, -0.75861226,\n         1.78456896, -0.29163379],\n       [-0.24806947, -0.33601075, -0.33601075, -0.17277369,  2.76134025,\n        -0.24806947, -0.36214298, -0.3086067 , -0.43549417, -0.24806947,\n        -0.36214298, -0.36341924, -0.19096665, -0.82777689, -0.323136  ,\n        -0.57643157,  1.4681488 ],\n       [ 4.03112887, -0.33601075, -0.33601075, -0.17277369, -0.36214298,\n        -0.24806947, -0.36214298, -0.3086067 , -0.43549417, -0.24806947,\n        -0.36214298,  1.6312568 ,  1.49835371, -0.46911689, -1.01989801,\n         1.05810726,  0.9325628 ],\n       [-0.24806947, -0.33601075, -0.33601075, -0.17277369, -0.36214298,\n         4.03112887, -0.36214298, -0.3086067 , -0.43549417, -0.24806947,\n        -0.36214298, -0.36341924, -0.19096665, -0.91744189, -0.84570751,\n         0.69487641,  0.9325628 ],\n       [-0.24806947, -0.33601075, -0.33601075, -0.17277369,  2.76134025,\n        -0.24806947, -0.36214298, -0.3086067 , -0.43549417, -0.24806947,\n        -0.36214298, -0.07846552,  0.14689742, -0.28978689,  1.94134053,\n        -0.57643157, -1.3628058 ],\n       [-0.24806947, -0.33601075, -0.33601075,  5.78791845, -0.36214298,\n        -0.24806947, -0.36214298, -0.3086067 , -0.43549417, -0.24806947,\n        -0.36214298,  0.2064882 ,  0.48476149,  0.42753312, -0.41023126,\n         2.14779981, -0.44465836],\n       [-0.24806947,  2.97609524, -0.33601075, -0.17277369, -0.36214298,\n        -0.24806947, -0.36214298, -0.3086067 , -0.43549417, -0.24806947,\n        -0.36214298,  1.6312568 ,  1.49835371,  1.68284313, -0.323136  ,\n        -0.57643157,  1.69768566]])"
          },
          "metadata": {}
        }
      ]
    },
    {
      "cell_type": "markdown",
      "source": [
        "# Creating confusion matrix"
      ],
      "metadata": {
        "id": "r4CpcOabSIbZ"
      }
    },
    {
      "cell_type": "code",
      "source": [
        "from sklearn.metrics import confusion_matrix, accuracy_score\n",
        "cm = confusion_matrix(y_test, y_pred)\n",
        "print(cm)\n",
        "accuracy_score(y_test, y_pred)"
      ],
      "metadata": {
        "execution": {
          "iopub.status.busy": "2023-11-22T09:59:12.044019Z",
          "iopub.execute_input": "2023-11-22T09:59:12.044473Z",
          "iopub.status.idle": "2023-11-22T09:59:12.055070Z",
          "shell.execute_reply.started": "2023-11-22T09:59:12.044439Z",
          "shell.execute_reply": "2023-11-22T09:59:12.053632Z"
        },
        "trusted": true,
        "id": "_EGrQsbWSIbZ",
        "outputId": "4994821e-6f1a-480d-f8f2-233b40c61aa3"
      },
      "execution_count": null,
      "outputs": [
        {
          "name": "stdout",
          "text": "[[3 0 0 0 0 0 0]\n [0 4 0 0 0 0 0]\n [0 0 2 0 0 0 0]\n [0 0 0 1 0 0 0]\n [0 0 0 0 6 0 0]\n [0 0 0 0 0 7 0]\n [0 0 0 0 0 0 7]]\n",
          "output_type": "stream"
        },
        {
          "execution_count": 120,
          "output_type": "execute_result",
          "data": {
            "text/plain": "1.0"
          },
          "metadata": {}
        }
      ]
    },
    {
      "cell_type": "code",
      "source": [
        "classifier.score(X_test, y_test)"
      ],
      "metadata": {
        "execution": {
          "iopub.status.busy": "2023-11-22T09:59:12.059358Z",
          "iopub.execute_input": "2023-11-22T09:59:12.059729Z",
          "iopub.status.idle": "2023-11-22T09:59:12.085236Z",
          "shell.execute_reply.started": "2023-11-22T09:59:12.059696Z",
          "shell.execute_reply": "2023-11-22T09:59:12.084058Z"
        },
        "trusted": true,
        "id": "f1XXNiH0SIba",
        "outputId": "0367b22c-515a-4a31-af99-0041986faab3"
      },
      "execution_count": null,
      "outputs": [
        {
          "execution_count": 121,
          "output_type": "execute_result",
          "data": {
            "text/plain": "1.0"
          },
          "metadata": {}
        }
      ]
    },
    {
      "cell_type": "markdown",
      "source": [
        "**Test accuracy = 96.67%**"
      ],
      "metadata": {
        "id": "hU_gyAQHSIbb"
      }
    },
    {
      "cell_type": "markdown",
      "source": [
        "# Preprocessing using Label Encoder"
      ],
      "metadata": {
        "id": "wHF28yjGSIbb"
      }
    },
    {
      "cell_type": "code",
      "source": [
        "#encoding the labels for categorical variables\n",
        "from sklearn.preprocessing import LabelEncoder\n"
      ],
      "metadata": {
        "execution": {
          "iopub.status.busy": "2023-11-22T09:59:12.087431Z",
          "iopub.execute_input": "2023-11-22T09:59:12.087868Z",
          "iopub.status.idle": "2023-11-22T09:59:12.092505Z",
          "shell.execute_reply.started": "2023-11-22T09:59:12.087800Z",
          "shell.execute_reply": "2023-11-22T09:59:12.091370Z"
        },
        "trusted": true,
        "id": "bbbgWKSnSIbb"
      },
      "execution_count": null,
      "outputs": []
    },
    {
      "cell_type": "code",
      "source": [
        "#encoding Soil Type variable\n",
        "encode_soil = LabelEncoder()\n",
        "df['Soil Type'] = encode_soil.fit_transform(df['Soil Type'])\n",
        "\n",
        "#creating the DataFrame\n",
        "Soil_Type = pd.DataFrame(zip(encode_soil.classes_,encode_soil.transform(encode_soil.classes_)),columns=['Original','Encoded'])\n",
        "Soil_Type = Soil_Type.set_index('Original')\n",
        "Soil_Type"
      ],
      "metadata": {
        "execution": {
          "iopub.status.busy": "2023-11-22T09:59:12.094365Z",
          "iopub.execute_input": "2023-11-22T09:59:12.094807Z",
          "iopub.status.idle": "2023-11-22T09:59:12.119286Z",
          "shell.execute_reply.started": "2023-11-22T09:59:12.094767Z",
          "shell.execute_reply": "2023-11-22T09:59:12.117941Z"
        },
        "trusted": true,
        "id": "OKPkmMYjSIbc",
        "outputId": "0ac87707-784f-4a60-fec8-60170736c3b8"
      },
      "execution_count": null,
      "outputs": [
        {
          "execution_count": 123,
          "output_type": "execute_result",
          "data": {
            "text/plain": "          Encoded\nOriginal         \nBlack           0\nClayey          1\nLoamy           2\nRed             3\nSandy           4",
            "text/html": "<div>\n<style scoped>\n    .dataframe tbody tr th:only-of-type {\n        vertical-align: middle;\n    }\n\n    .dataframe tbody tr th {\n        vertical-align: top;\n    }\n\n    .dataframe thead th {\n        text-align: right;\n    }\n</style>\n<table border=\"1\" class=\"dataframe\">\n  <thead>\n    <tr style=\"text-align: right;\">\n      <th></th>\n      <th>Encoded</th>\n    </tr>\n    <tr>\n      <th>Original</th>\n      <th></th>\n    </tr>\n  </thead>\n  <tbody>\n    <tr>\n      <th>Black</th>\n      <td>0</td>\n    </tr>\n    <tr>\n      <th>Clayey</th>\n      <td>1</td>\n    </tr>\n    <tr>\n      <th>Loamy</th>\n      <td>2</td>\n    </tr>\n    <tr>\n      <th>Red</th>\n      <td>3</td>\n    </tr>\n    <tr>\n      <th>Sandy</th>\n      <td>4</td>\n    </tr>\n  </tbody>\n</table>\n</div>"
          },
          "metadata": {}
        }
      ]
    },
    {
      "cell_type": "code",
      "source": [
        "encode_crop =  LabelEncoder()\n",
        "df['Crop Type'] = encode_crop.fit_transform(df['Crop Type'])\n",
        "\n",
        "#creating the DataFrame\n",
        "Crop_Type = pd.DataFrame(zip(encode_crop.classes_,encode_crop.transform(encode_crop.classes_)),columns=['Original','Encoded'])\n",
        "Crop_Type = Crop_Type.set_index('Original')\n",
        "Crop_Type"
      ],
      "metadata": {
        "execution": {
          "iopub.status.busy": "2023-11-22T09:59:12.120860Z",
          "iopub.execute_input": "2023-11-22T09:59:12.121223Z",
          "iopub.status.idle": "2023-11-22T09:59:12.138890Z",
          "shell.execute_reply.started": "2023-11-22T09:59:12.121185Z",
          "shell.execute_reply": "2023-11-22T09:59:12.137294Z"
        },
        "trusted": true,
        "id": "XyCh1T7cSIbc",
        "outputId": "250c2bcc-1def-46b2-8bfb-f2207340e69c"
      },
      "execution_count": null,
      "outputs": [
        {
          "execution_count": 124,
          "output_type": "execute_result",
          "data": {
            "text/plain": "             Encoded\nOriginal            \nBarley             0\nCotton             1\nGround Nuts        2\nMaize              3\nMillets            4\nOil seeds          5\nPaddy              6\nPulses             7\nSugarcane          8\nTobacco            9\nWheat             10",
            "text/html": "<div>\n<style scoped>\n    .dataframe tbody tr th:only-of-type {\n        vertical-align: middle;\n    }\n\n    .dataframe tbody tr th {\n        vertical-align: top;\n    }\n\n    .dataframe thead th {\n        text-align: right;\n    }\n</style>\n<table border=\"1\" class=\"dataframe\">\n  <thead>\n    <tr style=\"text-align: right;\">\n      <th></th>\n      <th>Encoded</th>\n    </tr>\n    <tr>\n      <th>Original</th>\n      <th></th>\n    </tr>\n  </thead>\n  <tbody>\n    <tr>\n      <th>Barley</th>\n      <td>0</td>\n    </tr>\n    <tr>\n      <th>Cotton</th>\n      <td>1</td>\n    </tr>\n    <tr>\n      <th>Ground Nuts</th>\n      <td>2</td>\n    </tr>\n    <tr>\n      <th>Maize</th>\n      <td>3</td>\n    </tr>\n    <tr>\n      <th>Millets</th>\n      <td>4</td>\n    </tr>\n    <tr>\n      <th>Oil seeds</th>\n      <td>5</td>\n    </tr>\n    <tr>\n      <th>Paddy</th>\n      <td>6</td>\n    </tr>\n    <tr>\n      <th>Pulses</th>\n      <td>7</td>\n    </tr>\n    <tr>\n      <th>Sugarcane</th>\n      <td>8</td>\n    </tr>\n    <tr>\n      <th>Tobacco</th>\n      <td>9</td>\n    </tr>\n    <tr>\n      <th>Wheat</th>\n      <td>10</td>\n    </tr>\n  </tbody>\n</table>\n</div>"
          },
          "metadata": {}
        }
      ]
    },
    {
      "cell_type": "code",
      "source": [
        "encode_ferti = LabelEncoder()\n",
        "df['Fertilizer Name'] = encode_ferti.fit_transform(df['Fertilizer Name'])\n",
        "\n",
        "#creating the DataFrame\n",
        "Fertilizer = pd.DataFrame(zip(encode_ferti.classes_,encode_ferti.transform(encode_ferti.classes_)),columns=['Original','Encoded'])\n",
        "Fertilizer = Fertilizer.set_index('Original')\n",
        "Fertilizer"
      ],
      "metadata": {
        "execution": {
          "iopub.status.busy": "2023-11-22T09:59:12.140499Z",
          "iopub.execute_input": "2023-11-22T09:59:12.140927Z",
          "iopub.status.idle": "2023-11-22T09:59:12.158755Z",
          "shell.execute_reply.started": "2023-11-22T09:59:12.140883Z",
          "shell.execute_reply": "2023-11-22T09:59:12.157186Z"
        },
        "trusted": true,
        "id": "fmcwy44zSIbc",
        "outputId": "2a667352-a6e5-49c8-ae84-1009ce03a67a"
      },
      "execution_count": null,
      "outputs": [
        {
          "execution_count": 125,
          "output_type": "execute_result",
          "data": {
            "text/plain": "          Encoded\nOriginal         \n10-26-26        0\n14-35-14        1\n17-17-17        2\n20-20           3\n28-28           4\nDAP             5\nUrea            6",
            "text/html": "<div>\n<style scoped>\n    .dataframe tbody tr th:only-of-type {\n        vertical-align: middle;\n    }\n\n    .dataframe tbody tr th {\n        vertical-align: top;\n    }\n\n    .dataframe thead th {\n        text-align: right;\n    }\n</style>\n<table border=\"1\" class=\"dataframe\">\n  <thead>\n    <tr style=\"text-align: right;\">\n      <th></th>\n      <th>Encoded</th>\n    </tr>\n    <tr>\n      <th>Original</th>\n      <th></th>\n    </tr>\n  </thead>\n  <tbody>\n    <tr>\n      <th>10-26-26</th>\n      <td>0</td>\n    </tr>\n    <tr>\n      <th>14-35-14</th>\n      <td>1</td>\n    </tr>\n    <tr>\n      <th>17-17-17</th>\n      <td>2</td>\n    </tr>\n    <tr>\n      <th>20-20</th>\n      <td>3</td>\n    </tr>\n    <tr>\n      <th>28-28</th>\n      <td>4</td>\n    </tr>\n    <tr>\n      <th>DAP</th>\n      <td>5</td>\n    </tr>\n    <tr>\n      <th>Urea</th>\n      <td>6</td>\n    </tr>\n  </tbody>\n</table>\n</div>"
          },
          "metadata": {}
        }
      ]
    },
    {
      "cell_type": "code",
      "source": [
        "#splitting the data into train and test\n",
        "from sklearn.model_selection import train_test_split\n",
        "\n",
        "x_train, x_test, y_train, y_test = train_test_split(df.drop('Fertilizer Name',axis=1),df['Fertilizer Name'],test_size=0.2,random_state=1)\n",
        "print('Shape of Splitting :')\n",
        "print('x_train = {}, y_train = {}, x_test = {}, y_test = {}'.format(x_train.shape,y_train.shape,x_test.shape,y_test.shape))"
      ],
      "metadata": {
        "execution": {
          "iopub.status.busy": "2023-11-22T09:59:12.160870Z",
          "iopub.execute_input": "2023-11-22T09:59:12.161418Z",
          "iopub.status.idle": "2023-11-22T09:59:12.175250Z",
          "shell.execute_reply.started": "2023-11-22T09:59:12.161352Z",
          "shell.execute_reply": "2023-11-22T09:59:12.173989Z"
        },
        "trusted": true,
        "id": "m-sqLNLhSIbd",
        "outputId": "4d96be39-29e4-4808-eebb-73ed0eec12dd"
      },
      "execution_count": null,
      "outputs": [
        {
          "name": "stdout",
          "text": "Shape of Splitting :\nx_train = (79, 8), y_train = (79,), x_test = (20, 8), y_test = (20,)\n",
          "output_type": "stream"
        }
      ]
    },
    {
      "cell_type": "code",
      "source": [
        "x_train.info()"
      ],
      "metadata": {
        "execution": {
          "iopub.status.busy": "2023-11-22T09:59:12.176836Z",
          "iopub.execute_input": "2023-11-22T09:59:12.177308Z",
          "iopub.status.idle": "2023-11-22T09:59:12.196992Z",
          "shell.execute_reply.started": "2023-11-22T09:59:12.177257Z",
          "shell.execute_reply": "2023-11-22T09:59:12.195460Z"
        },
        "trusted": true,
        "id": "aV8DtzZvSIbd",
        "outputId": "e4f86c42-14ec-4dc9-a4ba-8dd63365e164"
      },
      "execution_count": null,
      "outputs": [
        {
          "name": "stdout",
          "text": "<class 'pandas.core.frame.DataFrame'>\nInt64Index: 79 entries, 2 to 37\nData columns (total 8 columns):\n #   Column       Non-Null Count  Dtype\n---  ------       --------------  -----\n 0   Temparature  79 non-null     int64\n 1   Humidity     79 non-null     int64\n 2   Moisture     79 non-null     int64\n 3   Soil Type    79 non-null     int64\n 4   Crop Type    79 non-null     int64\n 5   Nitrogen     79 non-null     int64\n 6   Potassium    79 non-null     int64\n 7   Phosphorous  79 non-null     int64\ndtypes: int64(8)\nmemory usage: 5.6 KB\n",
          "output_type": "stream"
        }
      ]
    },
    {
      "cell_type": "markdown",
      "source": [
        "# Random Forest Classifier"
      ],
      "metadata": {
        "id": "RX7gH_ALSIbd"
      }
    },
    {
      "cell_type": "code",
      "source": [
        "rand = RandomForestClassifier(random_state = 42)\n",
        "rand.fit(x_train,y_train)"
      ],
      "metadata": {
        "execution": {
          "iopub.status.busy": "2023-11-22T09:59:12.198610Z",
          "iopub.execute_input": "2023-11-22T09:59:12.198973Z",
          "iopub.status.idle": "2023-11-22T09:59:12.427265Z",
          "shell.execute_reply.started": "2023-11-22T09:59:12.198937Z",
          "shell.execute_reply": "2023-11-22T09:59:12.425970Z"
        },
        "trusted": true,
        "id": "w1-sC1p2SIbd",
        "outputId": "155272ff-9de0-4ebd-82df-a9ee39cb6e64"
      },
      "execution_count": null,
      "outputs": [
        {
          "execution_count": 128,
          "output_type": "execute_result",
          "data": {
            "text/plain": "RandomForestClassifier(random_state=42)"
          },
          "metadata": {}
        }
      ]
    },
    {
      "cell_type": "code",
      "source": [
        "pred_rand = rand.predict(x_test)"
      ],
      "metadata": {
        "execution": {
          "iopub.status.busy": "2023-11-22T09:59:12.428930Z",
          "iopub.execute_input": "2023-11-22T09:59:12.429279Z",
          "iopub.status.idle": "2023-11-22T09:59:12.455252Z",
          "shell.execute_reply.started": "2023-11-22T09:59:12.429242Z",
          "shell.execute_reply": "2023-11-22T09:59:12.453952Z"
        },
        "trusted": true,
        "id": "5QFruOmbSIbe"
      },
      "execution_count": null,
      "outputs": []
    },
    {
      "cell_type": "markdown",
      "source": [
        "# Hyperparameter tuning with GridSearchCV"
      ],
      "metadata": {
        "id": "LsQhZtxqSIbe"
      }
    },
    {
      "cell_type": "markdown",
      "source": [
        "The performance of a model significantly depends on the value of hyperparameters. Grid Search is the process of performing hyperparameter tuning in order to determine the optimal values for a given model."
      ],
      "metadata": {
        "id": "dzTwJUa2SIbe"
      }
    },
    {
      "cell_type": "code",
      "source": [
        "from sklearn.model_selection import GridSearchCV\n",
        "from sklearn.metrics import accuracy_score, classification_report\n",
        "\n",
        "params = {\n",
        "    'n_estimators':[300,400,500],\n",
        "    'max_depth':[5,10,15],\n",
        "    'min_samples_split':[2,5,8]\n",
        "}\n",
        "grid_rand = GridSearchCV(rand,params,cv=3,verbose=3,n_jobs=-1)\n",
        "\n",
        "grid_rand.fit(x_train,y_train)\n",
        "\n",
        "pred_rand = grid_rand.predict(x_test)\n",
        "\n",
        "print(classification_report(y_test,pred_rand))\n",
        "\n",
        "print('Best score : ',grid_rand.best_score_)\n",
        "print('Best params : ',grid_rand.best_params_)"
      ],
      "metadata": {
        "execution": {
          "iopub.status.busy": "2023-11-22T09:59:12.456882Z",
          "iopub.execute_input": "2023-11-22T09:59:12.457253Z",
          "iopub.status.idle": "2023-11-22T09:59:42.096779Z",
          "shell.execute_reply.started": "2023-11-22T09:59:12.457207Z",
          "shell.execute_reply": "2023-11-22T09:59:42.095207Z"
        },
        "trusted": true,
        "id": "31bir4RrSIbe",
        "outputId": "10e3b971-77e8-4e91-c72a-3d8a3bc5441a"
      },
      "execution_count": null,
      "outputs": [
        {
          "name": "stdout",
          "text": "Fitting 3 folds for each of 27 candidates, totalling 81 fits\n              precision    recall  f1-score   support\n\n           0       1.00      0.33      0.50         3\n           1       0.75      1.00      0.86         3\n           2       0.67      1.00      0.80         2\n           3       1.00      1.00      1.00         2\n           4       1.00      1.00      1.00         2\n           5       1.00      1.00      1.00         2\n           6       1.00      1.00      1.00         6\n\n    accuracy                           0.90        20\n   macro avg       0.92      0.90      0.88        20\nweighted avg       0.93      0.90      0.88        20\n\nBest score :  0.9748338081671415\nBest params :  {'max_depth': 5, 'min_samples_split': 2, 'n_estimators': 300}\n",
          "output_type": "stream"
        }
      ]
    },
    {
      "cell_type": "markdown",
      "source": [
        "**Best score = 97.48%**"
      ],
      "metadata": {
        "id": "fmNuXn8lSIbe"
      }
    },
    {
      "cell_type": "code",
      "source": [
        "y_train[2]"
      ],
      "metadata": {
        "execution": {
          "iopub.status.busy": "2023-11-22T09:59:42.098883Z",
          "iopub.execute_input": "2023-11-22T09:59:42.099252Z",
          "iopub.status.idle": "2023-11-22T09:59:42.107281Z",
          "shell.execute_reply.started": "2023-11-22T09:59:42.099215Z",
          "shell.execute_reply": "2023-11-22T09:59:42.106039Z"
        },
        "trusted": true,
        "id": "os1_V2WHSIbf",
        "outputId": "61a387c5-193a-467c-93dd-c1387616e239"
      },
      "execution_count": null,
      "outputs": [
        {
          "execution_count": 131,
          "output_type": "execute_result",
          "data": {
            "text/plain": "1"
          },
          "metadata": {}
        }
      ]
    },
    {
      "cell_type": "code",
      "source": [
        "#pickling the file\n",
        "import pickle\n",
        "pickle_out = open('classifier.pkl','wb')\n",
        "pickle.dump(grid_rand,pickle_out)\n",
        "pickle_out.close()"
      ],
      "metadata": {
        "execution": {
          "iopub.status.busy": "2023-11-22T09:59:42.108978Z",
          "iopub.execute_input": "2023-11-22T09:59:42.109320Z",
          "iopub.status.idle": "2023-11-22T09:59:42.153843Z",
          "shell.execute_reply.started": "2023-11-22T09:59:42.109287Z",
          "shell.execute_reply": "2023-11-22T09:59:42.152306Z"
        },
        "trusted": true,
        "id": "SCJTXU_nSIbf"
      },
      "execution_count": null,
      "outputs": []
    },
    {
      "cell_type": "code",
      "source": [
        "df.head()"
      ],
      "metadata": {
        "execution": {
          "iopub.status.busy": "2023-11-22T09:59:42.155470Z",
          "iopub.execute_input": "2023-11-22T09:59:42.155805Z",
          "iopub.status.idle": "2023-11-22T09:59:42.173837Z",
          "shell.execute_reply.started": "2023-11-22T09:59:42.155770Z",
          "shell.execute_reply": "2023-11-22T09:59:42.172645Z"
        },
        "trusted": true,
        "id": "fQ8dOLOpSIbf",
        "outputId": "45658254-a5a8-4fd4-ae82-d18f01d75639"
      },
      "execution_count": null,
      "outputs": [
        {
          "execution_count": 133,
          "output_type": "execute_result",
          "data": {
            "text/plain": "   Temparature  Humidity   Moisture  Soil Type  Crop Type  Nitrogen  \\\n0           26         52        38          4          3        37   \n1           29         52        45          2          8        12   \n2           34         65        62          0          1         7   \n3           32         62        34          3          9        22   \n4           28         54        46          1          6        35   \n\n   Potassium  Phosphorous  Fertilizer Name  \n0          0            0                6  \n1          0           36                5  \n2          9           30                1  \n3          0           20                4  \n4          0            0                6  ",
            "text/html": "<div>\n<style scoped>\n    .dataframe tbody tr th:only-of-type {\n        vertical-align: middle;\n    }\n\n    .dataframe tbody tr th {\n        vertical-align: top;\n    }\n\n    .dataframe thead th {\n        text-align: right;\n    }\n</style>\n<table border=\"1\" class=\"dataframe\">\n  <thead>\n    <tr style=\"text-align: right;\">\n      <th></th>\n      <th>Temparature</th>\n      <th>Humidity</th>\n      <th>Moisture</th>\n      <th>Soil Type</th>\n      <th>Crop Type</th>\n      <th>Nitrogen</th>\n      <th>Potassium</th>\n      <th>Phosphorous</th>\n      <th>Fertilizer Name</th>\n    </tr>\n  </thead>\n  <tbody>\n    <tr>\n      <th>0</th>\n      <td>26</td>\n      <td>52</td>\n      <td>38</td>\n      <td>4</td>\n      <td>3</td>\n      <td>37</td>\n      <td>0</td>\n      <td>0</td>\n      <td>6</td>\n    </tr>\n    <tr>\n      <th>1</th>\n      <td>29</td>\n      <td>52</td>\n      <td>45</td>\n      <td>2</td>\n      <td>8</td>\n      <td>12</td>\n      <td>0</td>\n      <td>36</td>\n      <td>5</td>\n    </tr>\n    <tr>\n      <th>2</th>\n      <td>34</td>\n      <td>65</td>\n      <td>62</td>\n      <td>0</td>\n      <td>1</td>\n      <td>7</td>\n      <td>9</td>\n      <td>30</td>\n      <td>1</td>\n    </tr>\n    <tr>\n      <th>3</th>\n      <td>32</td>\n      <td>62</td>\n      <td>34</td>\n      <td>3</td>\n      <td>9</td>\n      <td>22</td>\n      <td>0</td>\n      <td>20</td>\n      <td>4</td>\n    </tr>\n    <tr>\n      <th>4</th>\n      <td>28</td>\n      <td>54</td>\n      <td>46</td>\n      <td>1</td>\n      <td>6</td>\n      <td>35</td>\n      <td>0</td>\n      <td>0</td>\n      <td>6</td>\n    </tr>\n  </tbody>\n</table>\n</div>"
          },
          "metadata": {}
        }
      ]
    },
    {
      "cell_type": "code",
      "source": [
        "model = pickle.load(open('classifier.pkl','rb'))\n",
        "ans = model.predict([[34,65,62\t,0,\t1,\t7,\t9,\t30]])\n",
        "if ans[0] == 0:\n",
        "    print(\"10-26-26\")\n",
        "elif ans[0] ==1:\n",
        "    print(\"14-35-14\")\n",
        "elif ans[0] == 2:\n",
        "    print(\"17-17-17\t\")\n",
        "elif ans[0] == 3:\n",
        "    print(\"20-20\")\n",
        "elif ans[0] == 4:\n",
        "    print(\"28-28\")\n",
        "elif ans[0] == 5:\n",
        "    print(\"DAP\")\n",
        "else:\n",
        "    print(\"Urea\")"
      ],
      "metadata": {
        "execution": {
          "iopub.status.busy": "2023-11-22T09:59:42.175483Z",
          "iopub.execute_input": "2023-11-22T09:59:42.175894Z",
          "iopub.status.idle": "2023-11-22T09:59:42.252125Z",
          "shell.execute_reply.started": "2023-11-22T09:59:42.175813Z",
          "shell.execute_reply": "2023-11-22T09:59:42.250920Z"
        },
        "trusted": true,
        "id": "f2fzrzRbSIbg",
        "outputId": "e4532a4e-922f-4ddb-8f01-7cce846bb378"
      },
      "execution_count": null,
      "outputs": [
        {
          "name": "stdout",
          "text": "14-35-14\n",
          "output_type": "stream"
        }
      ]
    }
  ]
}